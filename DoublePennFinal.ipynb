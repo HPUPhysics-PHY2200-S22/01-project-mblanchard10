{
 "cells": [
  {
   "cell_type": "markdown",
   "id": "5c1a6a6b",
   "metadata": {},
   "source": [
    "# Double Pendulum Project\n",
    "**Name:** Michael Blanchard and Reilly Kobbe\n",
    "\n",
    "**Class:** PHY-2200\n",
    "\n",
    "**Professor:** Dr. Titus\n",
    "\n",
    "**Description:** The goal for the project is to use multiple differential equations and an ODE to code a double pendulum. After solving the math, the task was to graph the data collected and create a model of the double pendulum itself. "
   ]
  },
  {
   "cell_type": "code",
   "execution_count": 4,
   "id": "81a9f9b3",
   "metadata": {},
   "outputs": [],
   "source": [
    "import ode\n",
    "import numpy as np\n",
    "import math\n",
    "import matplotlib.pyplot as plt\n",
    "from vpython import *"
   ]
  },
  {
   "cell_type": "markdown",
   "id": "9098ffac",
   "metadata": {},
   "source": [
    "# Double Pendulum Code\n",
    "This function is where we set out independent varaibles such as the mass of the balls, the length of the rods, the momentum, and gravity. These variables are initialized globally to stay consistent throughout the code. \n",
    "\n",
    "Secondly, within the function we define dtheta/dt and domega/dt for both pendulums. This is where the differential equations really came into play. Finding these equations and entering them in was difficult at first, but essentially we found we did not need to solve them, just implement them. \n",
    "\n",
    "Additionally, something that was confusing was where teh values of the variables \"omega\", \"theta\", \"omega2\", and \"theta2\" were initalized. Dr. Titus explained these came from the dep[] array, which did the solving for us. \n",
    "\n",
    "Finally, we stored these dependent varaibles into an array. This array will be used throughout the code.\n",
    "\n",
    "Overall, we found this step to be difficult becuase of the long differential equations. However, once we realized how to implement them and understand what they were being used for, it was not so bad."
   ]
  },
  {
   "cell_type": "code",
   "execution_count": 5,
   "id": "b4403a99",
   "metadata": {},
   "outputs": [],
   "source": [
    "#independent variablesg = 10 #N/kg\n",
    "R = 1  #m\n",
    "m1 = .1 #mass of penn 1\n",
    "m2 = .1 #mass of penn 2\n",
    "L1 = .8\n",
    "L2 = .8\n",
    "g = 10\n",
    "    \n",
    "def pendulum(dep, t):  \n",
    "    theta = dep[0]\n",
    "    omega = dep[1]\n",
    "    theta2 = dep[2]\n",
    "    omega2 = dep[3] \n",
    "    \n",
    "    #dtheta / dt\n",
    "    dtheta = omega\n",
    "    #domega/ dt\n",
    "    domega = (-g*(2*m1+m2)*np.sin(theta) - m2*g*np.sin(theta-2*theta2) - 2*np.sin(theta-theta2)*m2*((omega2**2)*L2 + (omega2**2)*L1*np.cos(theta-theta2))) / (L1*((2*m1+m2)-(m2*cos(2*np.cos(2*theta-2*theta2))))) #domega/dt\n",
    "    \n",
    "    #dtheta2 / dt\n",
    "    dtheta2 = omega2\n",
    "    #domega2 / dt\n",
    "    domega2 = (2*np.sin(theta-theta2) * (omega*L1*(m1+m2) + g*(m1+m2)*np.cos(theta) + (omega2**2)*L2*m2*np.cos(theta-theta2))) / (L2*((2*m1+m2)-(m2*np.cos(2*np.cos(2*theta-2*theta2))))) #equation for theta2 \n",
    "    \n",
    "    #array of dependent variables\n",
    "    deriv = np.array([dtheta, domega, dtheta2, domega2])\n",
    "    \n",
    "    #This returns the value of the diff eq (i.e second deriv of theta 1 theta2)\n",
    "    return deriv"
   ]
  },
  {
   "cell_type": "markdown",
   "id": "06f3d570",
   "metadata": {},
   "source": [
    "# The Implementation\n",
    "Moving on from the doublePendulum funciton we have the implentation of the equations. Additionally, we make use of RK4.\n",
    "\n",
    "We start by declaring some dependent variables and storing them into another array. These variables will be parameters when RK4 is used. \n",
    "\n",
    "Next, we declare then initialize 4 arrays; two for theta(2), two for omega(2), and one for time. These arrays are used for when we plot our results on a graph and model our double pendulum. \n",
    "\n",
    "Finally, we have our for loop. This is where RK4 is used and everything is caluclated. When the ODE is called, we pass in the return value of pendulum, our data array, time (t), and our timestep (h). This is all then stored in the data array. On top of this time is always being updated becuase this is in real time. The thetas and omegas are also stored in their specific array. Again, this is so we can plott and model our data.\n",
    "\n",
    "In conclusion we found this section of code to be the easiest. Most of the new information was essentially duplicated from the single pendulum code. "
   ]
  },
  {
   "cell_type": "code",
   "execution_count": 6,
   "id": "33d8a235",
   "metadata": {},
   "outputs": [],
   "source": [
    "#dependent variables\n",
    "theta = np.pi/2\n",
    "omega = 0\n",
    "theta2 = np.pi/2\n",
    "omega2 = 0\n",
    "\n",
    "data = np.array([theta, omega, theta2, omega2]) #initialize array to store dependent variables\n",
    "\n",
    "#independent variable\n",
    "t = 0\n",
    "h = 0.01\n",
    "Nsteps = int(5/h) #N steps for T seconds of evolution\n",
    "\n",
    "#create arrays needed for plotting theta vs. t and omega vs. t\n",
    "tarr = np.zeros(Nsteps)\n",
    "thetaarr = np.zeros(Nsteps)\n",
    "omegaarr = np.zeros(Nsteps)\n",
    "theta2arr = np.zeros(Nsteps)\n",
    "omega2arr = np.zeros(Nsteps)\n",
    "\n",
    "tarr[0] = t\n",
    "thetaarr[0] = theta\n",
    "omegaarr[0] = omega\n",
    "theta2arr[0] = theta2\n",
    "omega2arr[0] = omega2\n",
    "\n",
    "#create a time evolution loop\n",
    "for n in range(1,Nsteps):\n",
    "    \n",
    "    data = ode.RK4(pendulum, data, t, h) #update [theta, omega]\n",
    "    \n",
    "    t = t + h #update values\n",
    "    \n",
    "    #store values in arrays\n",
    "    tarr[n] = t\n",
    "    \n",
    "    #for the total energy\n",
    "    y = -R*np.cos(data[0])\n",
    "    v = R*np.cos(data[1])\n",
    "    \n",
    "    thetaarr[n] = data[0] #store theta\n",
    "    omegaarr[n] = data[1] #store omega\n",
    "    theta2arr[n] = data[2] #store theta2\n",
    "    omega2arr[n] = data[3] #store omega2"
   ]
  },
  {
   "cell_type": "markdown",
   "id": "a0bd0a57",
   "metadata": {},
   "source": [
    "# Graphing our Results\n",
    "After properly making our calculations, it came time to graph our data. We created two graphs; one was both theta1 and theta2 graphed vs. time and the second was theta1 and theta2 graphed against eachother. For each graph, our theta, omega, and time arrays were used extensively. Without this information, we would not be able to properly plot our data.\n",
    "\n",
    "Overall, plotting the graphs was very easy. All we needed was the arrays in which we stored our data in. We made sure to clearly and acuratley label our graphs. \n",
    "\n",
    "**Theta vs Time** \n",
    "\n",
    "This graph does a nice job depicting how both pendulum angles are acting while in motion. There is no point where the graph takes off into infinity, which is an error another group had. We deem the graph to be acurate becuase you can see both pendulums lines move with one another (roughly the same shape). \n",
    "\n",
    "**Theta 1 vs Theta 2**\n",
    "\n",
    "This graph acuratley depicts how both pendulum angles work against one another. Again, we noticed nothing looked totally abnormal (i.e nothing was shooting to infinity or -infinity), so we deemed the second graph to be acurate as well."
   ]
  },
  {
   "cell_type": "code",
   "execution_count": 7,
   "id": "b258a1c2",
   "metadata": {},
   "outputs": [
    {
     "data": {
      "image/png": "[encoded data removed]",
      "text/plain": [
       "<Figure size 432x288 with 1 Axes>"
      ]
     },
     "metadata": {
      "needs_background": "light"
     },
     "output_type": "display_data"
    },
    {
     "data": {
      "image/png": "[encoded data removed]",
      "text/plain": [
       "<Figure size 432x288 with 1 Axes>"
      ]
     },
     "metadata": {
      "needs_background": "light"
     },
     "output_type": "display_data"
    }
   ],
   "source": [
    "#Graph of Theta1 and Theta2 vs time\n",
    "plt.figure()\n",
    "plt.title(\"Thetas vs Time for a Double Pendulum\")\n",
    "plt.plot(tarr, thetaarr, 'b-', label='Theta')\n",
    "plt.plot(tarr, theta2arr, 'r-', label='Theta 2')\n",
    "plt.xlabel(\"t (s)\")\n",
    "plt.ylabel(\"Theta (rad)\")\n",
    "plt.legend()\n",
    "plt.show()\n",
    "\n",
    "plt.figure()\n",
    "plt.title(\"Theta 1 vs Theta 2\")\n",
    "plt.xlabel(\"Theta 1 (rad)\")\n",
    "plt.ylabel(\"Theta 2 (rad)\")\n",
    "plt.plot(thetaarr, theta2arr, 'b-')\n",
    "plt.show()"
   ]
  },
  {
   "cell_type": "markdown",
   "id": "e310c178",
   "metadata": {},
   "source": [
    "# Modeling Our Double Pendulum"
   ]
  },
  {
   "cell_type": "code",
   "execution_count": 10,
   "id": "c5b74cea",
   "metadata": {},
   "outputs": [
    {
     "data": {
      "text/html": [
       "<div id=\"glowscript\" class=\"glowscript\"></div>"
      ],
      "text/plain": [
       "<IPython.core.display.HTML object>"
      ]
     },
     "metadata": {},
     "output_type": "display_data"
    },
    {
     "data": {
      "application/javascript": [
       "if (typeof Jupyter !== \"undefined\") { window.__context = { glowscript_container: $(\"#glowscript\").removeAttr(\"id\")};}else{ element.textContent = ' ';}"
      ],
      "text/plain": [
       "<IPython.core.display.Javascript object>"
      ]
     },
     "metadata": {},
     "output_type": "display_data"
    },
    {
     "data": {
      "application/javascript": [
       "if (typeof Jupyter !== \"undefined\") {require.undef(\"nbextensions/vpython_libraries/glow.min\");}else{element.textContent = ' ';}"
      ],
      "text/plain": [
       "<IPython.core.display.Javascript object>"
      ]
     },
     "metadata": {},
     "output_type": "display_data"
    },
    {
     "data": {
      "application/javascript": [
       "if (typeof Jupyter !== \"undefined\") {require.undef(\"nbextensions/vpython_libraries/glowcomm\");}else{element.textContent = ' ';}"
      ],
      "text/plain": [
       "<IPython.core.display.Javascript object>"
      ]
     },
     "metadata": {},
     "output_type": "display_data"
    },
    {
     "data": {
      "application/javascript": [
       "if (typeof Jupyter !== \"undefined\") {require.undef(\"nbextensions/vpython_libraries/jquery-ui.custom.min\");}else{element.textContent = ' ';}"
      ],
      "text/plain": [
       "<IPython.core.display.Javascript object>"
      ]
     },
     "metadata": {},
     "output_type": "display_data"
    },
    {
     "data": {
      "application/javascript": [
       "if (typeof Jupyter !== \"undefined\") {require([\"nbextensions/vpython_libraries/glow.min\"], function(){console.log(\"GLOW LOADED\");});}else{element.textContent = ' ';}"
      ],
      "text/plain": [
       "<IPython.core.display.Javascript object>"
      ]
     },
     "metadata": {},
     "output_type": "display_data"
    },
    {
     "data": {
      "application/javascript": [
       "if (typeof Jupyter !== \"undefined\") {require([\"nbextensions/vpython_libraries/glowcomm\"], function(){console.log(\"GLOWCOMM LOADED\");});}else{element.textContent = ' ';}"
      ],
      "text/plain": [
       "<IPython.core.display.Javascript object>"
      ]
     },
     "metadata": {},
     "output_type": "display_data"
    },
    {
     "data": {
      "application/javascript": [
       "if (typeof Jupyter !== \"undefined\") {require([\"nbextensions/vpython_libraries/jquery-ui.custom.min\"], function(){console.log(\"JQUERY LOADED\");});}else{element.textContent = ' ';}"
      ],
      "text/plain": [
       "<IPython.core.display.Javascript object>"
      ]
     },
     "metadata": {},
     "output_type": "display_data"
    }
   ],
   "source": [
    "# create the ceiling, masses, and strings\n",
    "scene = canvas()\n",
    "\n",
    "# assign \n",
    "x1 = L1 * np.sin(thetaarr[0])\n",
    "y1 = -L1 * np.cos(thetaarr[0])\n",
    "x2 = x1 + L2*sin(theta2arr[0])\n",
    "y2 = y1 + y1-L2*cos(theta2arr[0])\n",
    "    \n",
    "\n",
    "#Ball 1\n",
    "ball1 = sphere(pos=vector(x1,y1,0), radius=0.05, color=color.green , make_trail=True, retain=50) \n",
    "ball1.color=color.green\n",
    "\n",
    "#Ball 2\n",
    "ball2 = sphere(pos=vector(x2, y2,0), radius=0.05, color=color.cyan, make_trail=True, retain=50) \n",
    "ball2.color=color.cyan\n",
    "\n",
    "#rods\n",
    "rod1 = cylinder(pos=vec(0,0,0),axis=ball1.pos, color=color.white, radius=0.008)\n",
    "rod2 = cylinder(pos=ball1.pos, axis=ball2.pos-ball1.pos, color=color.white, radius=0.008)\n",
    "\n",
    "scene.pause()\n",
    "\n",
    "for n in range(len(tarr)):\n",
    "    rate(100)\n",
    "    \n",
    "    theta = thetaarr[n]\n",
    "    theta2 = theta2arr[n]\n",
    "    \n",
    "    x1 = L1 * np.sin(theta)\n",
    "    y1 = -L1 * np.cos(theta)\n",
    "    x2 = x1 + L2*sin(theta2)\n",
    "    y2 = y1 + y1-L2*cos(theta2)\n",
    "    \n",
    "    ball1.pos = vec(x1,y1,0)\n",
    "    ball2.pos = vec(x2,y2,0)\n",
    "    rod1.axis = ball1.pos\n",
    "    rod2.pos = ball1.pos\n",
    "    rod2.axis = ball2.pos-ball1.pos"
   ]
  },
  {
   "cell_type": "code",
   "execution_count": null,
   "id": "07594140",
   "metadata": {},
   "outputs": [],
   "source": []
  },
  {
   "cell_type": "code",
   "execution_count": null,
   "id": "7d57fc0a",
   "metadata": {},
   "outputs": [],
   "source": []
  }
 ],
 "metadata": {
  "kernelspec": {
   "display_name": "Python 3 (ipykernel)",
   "language": "python",
   "name": "python3"
  },
  "language_info": {
   "codemirror_mode": {
    "name": "ipython",
    "version": 3
   },
   "file_extension": ".py",
   "mimetype": "text/x-python",
   "name": "python",
   "nbconvert_exporter": "python",
   "pygments_lexer": "ipython3",
   "version": "3.9.7"
  }
 },
 "nbformat": 4,
 "nbformat_minor": 5
}
