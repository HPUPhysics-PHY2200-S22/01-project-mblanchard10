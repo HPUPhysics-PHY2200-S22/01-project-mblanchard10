{
 "cells": [
  {
   "cell_type": "code",
   "execution_count": 1,
   "id": "c5b0dd5a",
   "metadata": {},
   "outputs": [
    {
     "data": {
      "text/html": [
       "<div id=\"glowscript\" class=\"glowscript\"></div>"
      ],
      "text/plain": [
       "<IPython.core.display.HTML object>"
      ]
     },
     "metadata": {},
     "output_type": "display_data"
    },
    {
     "data": {
      "application/javascript": [
       "if (typeof Jupyter !== \"undefined\") { window.__context = { glowscript_container: $(\"#glowscript\").removeAttr(\"id\")};}else{ element.textContent = ' ';}"
      ],
      "text/plain": [
       "<IPython.core.display.Javascript object>"
      ]
     },
     "metadata": {},
     "output_type": "display_data"
    }
   ],
   "source": [
    "import ode\n",
    "import numpy as np\n",
    "import matplotlib.pyplot as plt\n",
    "from vpython import *"
   ]
  },
  {
   "cell_type": "code",
   "execution_count": 8,
   "id": "f8b2f04d",
   "metadata": {},
   "outputs": [],
   "source": [
    "def pendulumOne(dep, t):\n",
    "    \"\"\" Calculate and return the derivative [d/dt, d^2/dt^2] evaluated as a function of y, dy/dt, and t\n",
    "    where y is the dependent variable.\n",
    "    \n",
    "    Keyword arguments:\n",
    "    t -- time at the beginning of the time step\n",
    "    dep -- an array of the dependent variable and its derivative [y, dy/dt]_n at time t\n",
    "    \"\"\"    \n",
    "    theta = dep[0]\n",
    "    omega = dep[1]\n",
    "    deriv = np.zeros(2)\n",
    "    deriv[0] = omega #dtheta/dt\n",
    "    deriv[1] = -g/R*np.sin(theta) #domega/dt\n",
    "    \n",
    "    return deriv\n",
    "\n",
    "g = 10 #N/kg\n",
    "R = 1  #m\n",
    "\n",
    "#dependent variables\n",
    "theta0 = np.pi/2\n",
    "omega0 = 0\n",
    "data = np.array([theta0, omega0]) #initialize array to store dependent variables\n",
    "\n",
    "#independent variable\n",
    "t = 0\n",
    "h = 0.01\n",
    "Nsteps = int(5/h) #N steps for T seconds of evolution\n",
    "\n",
    "#create arrays needed for plotting theta vs. t and omega vs. t\n",
    "tarr = np.zeros(Nsteps)\n",
    "thetaarr = np.zeros(Nsteps)\n",
    "omegaarr = np.zeros(Nsteps)\n",
    "\n",
    "tarr[0] = t\n",
    "thetaarr[0] = theta0\n",
    "omegaarr[0] = omega0\n",
    "\n",
    "#create a time evolution loop\n",
    "for n in range(1,Nsteps):\n",
    "    \n",
    "    data = ode.RK4(pendulumOne, data, t, h) #update [theta, omega]\n",
    "    \n",
    "    t = t + h #update values\n",
    "    \n",
    "    #store values in arrays\n",
    "    tarr[n] = t\n",
    "    \n",
    "    #for the total energy\n",
    "    y = -R*np.cos(data[0])\n",
    "    v = R*np.cos(data[1])\n",
    "    \n",
    "    thetaarr[n] = data[0] #store theta\n",
    "    omegaarr[n] = data[1] #store omega\n",
    "  \n",
    "def pendulumTwo(dep, t):\n",
    "    scene = canvas()\n",
    "\n",
    "    ball = sphere(pos=vec(R*np.sin(theta0), -R*np.cos(theta0), 0), color=color.cyan, radius = R/10, make_trail=True)\n",
    "    rod = cylinder(pos=vec(0,0,0), axis = ball.pos, radius = ball.radius/4)\n",
    "\n",
    "    for theta in thetaarr:\n",
    "        rate(100)\n",
    "        ball.pos = vec(R*np.sin(theta), -R*np.cos(theta),0)\n",
    "        rod.axis = ball.pos"
   ]
  },
  {
   "cell_type": "code",
   "execution_count": 7,
   "id": "0ac22358",
   "metadata": {},
   "outputs": [
    {
     "data": {
      "text/html": [
       "<div id=\"glowscript\" class=\"glowscript\"></div>"
      ],
      "text/plain": [
       "<IPython.core.display.HTML object>"
      ]
     },
     "metadata": {},
     "output_type": "display_data"
    },
    {
     "data": {
      "application/javascript": [
       "if (typeof Jupyter !== \"undefined\") { window.__context = { glowscript_container: $(\"#glowscript\").removeAttr(\"id\")};}else{ element.textContent = ' ';}"
      ],
      "text/plain": [
       "<IPython.core.display.Javascript object>"
      ]
     },
     "metadata": {},
     "output_type": "display_data"
    }
   ],
   "source": [
    "scene = canvas()\n",
    "\n",
    "ball = sphere(pos=vec(R*np.sin(theta0), -R*np.cos(theta0), 0), color=color.cyan, radius = R/10, make_trail=True)\n",
    "rod = cylinder(pos=vec(0,0,0), axis = ball.pos, radius = ball.radius/4)\n",
    "\n",
    "for theta in thetaarr:\n",
    "    rate(100)\n",
    "    ball.pos = vec(R*np.sin(theta), -R*np.cos(theta),0)\n",
    "    rod.axis = ball.pos"
   ]
  },
  {
   "cell_type": "code",
   "execution_count": null,
   "id": "d90a6f28",
   "metadata": {},
   "outputs": [],
   "source": []
  }
 ],
 "metadata": {
  "kernelspec": {
   "display_name": "Python 3 (ipykernel)",
   "language": "python",
   "name": "python3"
  },
  "language_info": {
   "codemirror_mode": {
    "name": "ipython",
    "version": 3
   },
   "file_extension": ".py",
   "mimetype": "text/x-python",
   "name": "python",
   "nbconvert_exporter": "python",
   "pygments_lexer": "ipython3",
   "version": "3.9.7"
  }
 },
 "nbformat": 4,
 "nbformat_minor": 5
}
