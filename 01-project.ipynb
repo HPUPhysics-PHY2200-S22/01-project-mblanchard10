{
 "cells": [
  {
   "cell_type": "markdown",
   "metadata": {},
   "source": [
    "# Unit 01 Project - Solving Ordinary Differential Equations\n",
    "\n",
    "The purpose of this \"mini project\" is to demonstrate that you can solve ODEs.\n",
    "\n",
    "We will refer to the system and the set of ODEs that describe the system as the *model*. Your project should:\n",
    "\n",
    "- describe relevant background theory for your model and use LaTeX to render mathematical notation. Cite any sources used.\n",
    "- explain assumptions used in your model.\n",
    "- import your `ode.py` file and use a numerical integrator such as `Euler`, `RK2`, and `RK4`.\n",
    "- explore the difference in the solutions, depending on the integrator used.\n",
    "- graph data and (if appropriate) animate motion to describe the results of the model.\n",
    "- choose questions to explore with your model and answer those questions.\n",
    "- discuss validation. What gives you confidence in your results? What happens to energy after many iterations (this gives you a sense of the error in your numerical solution)? How does the accuracy depend on your choice of time step $h$?\n",
    "\n",
    "\n",
    "<div class=\"alert alert-success\">\n",
    "The mini-project should be of sufficient quality to post to github in your portfolio of work that can be shown to a potential employer.\n",
    "</div>\n",
    "\n",
    "## Grading Rubric\n",
    "\n",
    "Category | Poor (60-70%) | Good (70% - 85%) | Excellent (85%-100%)\n",
    ":---: | :--- | :--- | :---\n",
    "**Narrative** | There is very little narrative. Background information is not present or lacks detail. There is no story woven with the code. Mathematical markup is not used. No citations are included. | There is a narrative, but significant parts are missing. The writing does not flow. Sections headings are sparse. Mathematical markup is poor or insufficient. More and better citations are needed. | There is flow, and a clear storyline. Section headings are used to provide an outline. Mathematical markup is used correctly and sufficiently to display mathematics. Citations are sufficient in number and quality.\n",
    "**Code** | Code is missing or is not functional. Nothing is done to demonstrate that the code is operating correctly. Code is difficult to read. Results are missing or seriously incomplete. Visualization is not included. Units are inconsistent or incorrect. Algorithm is implemented incorrectly or the wrong algorithm chosen. There is significant error. | Code is mostly correct and the implementation or algorithm is a good method to use. Visualization is present, but titles and axes labels need improvement or visualization can be improved. Code is understandable and somewhat commented. Units are mostly consistent and correct.| The code runs flawlessly and is well-organized. The code is easy to read and understand. Units are indicated, consistent, and correct. Visualization is excellent. Techniques and algorithms are well-chosen and correctly implemented. Results are clear and understandable.\n",
    "**Difficulty** | The difficulty level is not a good match to one's ability. The project is either too difficult or too simple. | The difficulty level is good match to one's ability. | The difficulty is a big challenge, considering one's ablity.\n",
    "\n",
    "<div class=\"alert alert-success\">\n",
    "Your project should be in a separate notebook in this repository. You may write VPython programs in a separate `.py` file if this is more effective than including it in the notebook.\n",
    "</div>"
   ]
  },
  {
   "cell_type": "markdown",
   "metadata": {},
   "source": [
    "## Project Ideas\n",
    "\n",
    "For general one-dimensional linear or rotational motion, these are the fundamental differential equations:\n",
    "\n",
    "**Linear Motion**\n",
    "\n",
    "For one-dimensional linear motion, your differential equations will be described by the definition of linear velocity and the Momentum Principle (Newton's Second Law):\n",
    "\n",
    "$$\\frac{dx}{dt} = v_x$$\n",
    "\n",
    "$$\\frac{d v_x}{dt} = \\frac{F_{net,x}}{m}$$\n",
    "\n",
    "For 2D or 3D motion, you have similar ODEs for each dimension of the motion.\n",
    "\n",
    "\n",
    "**Rotational Motion About the CM**\n",
    "\n",
    "For rotational motion about the CM in a plane, use the definition of angular velocity and the Angular Momentum Principle applied at the CM. The moment of inertai about the CM is $I_{CM}$.\n",
    "\n",
    "$$\\frac{d\\theta}{dt} = \\omega_z$$\n",
    "\n",
    "$$\\frac{d \\omega_z}{dt} = \\frac{\\tau_{net,z,CM}}{I_{CM}}$$\n",
    "\n",
    "For **other systems**, you will need to derive or cite the differential equations used to describe the system.\n",
    "\n",
    "# Options\n",
    "\n",
    "The options below are merely a few interesting ideas. You are welcomed to explore and find systems that match your interest."
   ]
  },
  {
   "cell_type": "markdown",
   "metadata": {},
   "source": [
    "## Option 1 -- Lissajous Figures\n",
    "\n",
    "Lissajous figures arise from the motion of a two-dimensional harmonic oscillator described by:\n",
    "\n",
    "$$\\vec{F}_{net}=\\langle -k_1x, -k_2y, 0 \\rangle$$\n",
    "\n",
    "where $x$ and $y$ are coordinates in the x-y plane and $k$ is a characteristic \"stiffness\" of the motion in N/m. The stiffnesses $k$ can be written more generally as:\n",
    "\n",
    "$$k=m\\omega^2$$\n",
    "\n",
    "so the force can be written:\n",
    "\n",
    "$$\\vec{F}_{net}=\\langle -m\\omega_1^2x, -m\\omega_2^2y, 0 \\rangle$$\n",
    "\n",
    "When the ratio $\\omega_1/\\omega_2$ is equal to a ratio of integers like $1/2$, $1/3$, $2/3$, $2/1$, $3/2$, etc. interesting patterns in a graph of $y(x)$ (the \"motion\") emerge. With observation, you can learn to identify the ratio $\\omega_1/\\omega_2$ by simply looking at the pattern.\n",
    "\n",
    "1. Write a narrative, integrated with code, that describes Lissajous Figures.\n",
    "1. Use and reference at least one quality source about Lissajous Figures.\n",
    "2. Model a two-dimensional harmonic oscillator by solving the momentum principle for this system.\n",
    "3. Explore the model by viewing the motion $y(x)$ with various integer ratios of $\\omega_1/\\omega_2$. Describe a way to identify the ratio by the motion.\n",
    "4. Explore the effect of different initial conditions on your model.\n"
   ]
  },
  {
   "cell_type": "markdown",
   "metadata": {},
   "source": [
    "## Option 2 -- Hovercraft\n",
    "\n",
    "Model the motion of a hovercraft in a plane that has a single applied force (via a leaf blower of course) that is not necessarily applied along an axis through the center of mass of the system. Explore different values of $m$ and $I$ to see various kinds of motion that are possible.\n",
    "\n",
    "![](hovercraft.png)"
   ]
  },
  {
   "cell_type": "markdown",
   "metadata": {},
   "source": [
    "## Option 3 -- Double Pendulum\n",
    "\n",
    "Look up the ODEs that describe a double pendulum. Solve and animate the motion.\n",
    "\n",
    "[My favorite Twitter bot: Double Pendulum](https://twitter.com/pendulum_bot)\n",
    "\n",
    "[A set of double pendula](https://twitter.com/pendulum_bot/status/1273625499445743621)"
   ]
  },
  {
   "cell_type": "markdown",
   "metadata": {},
   "source": [
    "## Option 4 -- Stellar Structure\n",
    "\n",
    "This one is from Dr. Barlow.\n",
    "\n",
    "The website [spacemath.gsfc.nasa.gov](https://spacemath.gsfc.nasa.gov/) says the density proﬁle of the Sun, in $\\mathrm{g/cm^3}$ , is given by the following expression: \n",
    "\n",
    "$$\\rho(r) = 519\\left(\\frac{r}{R}\\right)^4 - 1630\\left(\\frac{r}{R}\\right)^3 + 1844\\left(\\frac{r}{R}\\right)^2 - 889\\left(\\frac{r}{R}\\right) + 155$$\n",
    "\n",
    "where $r$ is some radial distance from the center of the Sun, and $R$ the Sun’s full radius ($R = 6.95\\times 10^{5}$ km). Let’s also assume that the Sun’s equation of state everywhere is that of a perfect, ideal gas (such that you can ignore radiation pressure). Additionally, assume the inner 20% of the Sun (by radius) is pure, 100% ionized Helium, and the outer 80% (by radius) is pure, 100% ionized Hydrogen. Using the density proﬁle above, please do the following: \n",
    "\n",
    "1. Find an expression for $M(r)$, the mass interior to $r$. \n",
    "2. Calculate the total mass $M$. \n",
    "3. Find an expression for the pressure proﬁle, $P(r)$. \n",
    "4. Calculate the central pressure $P_c$. \n",
    "5. Find an expression for the temperature proﬁle, $T(r)$, from the core to the surface. \n",
    "6. Calculate the central temperature $T_c$. \n",
    "7. Plot the density proﬁle from the core to the surface. \n",
    "8. Plot the internal mass proﬁle from the core to the surface. \n",
    "9. Plot the pressure proﬁle from the core to the surface. \n",
    "10. Plot the temperature proﬁle from the core to the surface. \n",
    "11. The Sun’s central pressure is $P_c \\approx 2\\times 10^{16}$ $\\mathrm{N / m^{2}}$ , its central density is $\\rho_c \\approx 1.5\\times 10^{5}$ $\\mathrm{kg/m^3}$, its mass is $M =1.989\\times 10^{30}$ kg, and its central temperature is $T_c \\approx 1.6\\times 10^7$ K. Comment on how well the above model works. What are the weak points/assumptions and why? \n"
   ]
  },
  {
   "cell_type": "markdown",
   "metadata": {},
   "source": [
    "## Option 5 -- Enzyme Kinetics\n",
    "\n",
    "Model the simple reaction in which a substrate $S$ in the presence of an enzyme $E$ converts to one product $P$ through the formation of an enzyme-substrate complex $ES$. \n",
    "\n",
    "$$E+S \\rightleftarrows^{k_1}_{k_2} ES \\rightleftarrows^{k_3}_{k_4} E+P$$\n",
    "\n",
    "where $k_1$, $k_2$, $k_3$, and $k_4$ are rates of reactions. The rate of formation of $S$ is\n",
    "\n",
    "$$\\frac{d[S]}{dt} = k_2[ES] -k_1[E][S]$$"
   ]
  },
  {
   "cell_type": "markdown",
   "metadata": {},
   "source": [
    "## Option 6 -- Rocket Motion\n",
    "\n",
    "You can model the motion of a rocket with changing mass (due to burning fuel at a rate $dm/dt$ where $m$ is the instantaneous mass of the rocket). If the exhaust velocity is $v_{ex}$. Then the thrust on the rocket has a magnitude\n",
    "\n",
    "$$F_{thrust} = -\\frac{dm}{dt}v_{ex}$$\n",
    "\n",
    "where $dm/dt$ is negative since the rocket is losing mass. For a rocket in space in 1D, you can model the rocket's motion as:\n",
    "\n",
    "$$\\frac{dx}{dt} = v_x$$\n",
    "\n",
    "$$\\frac{d v_x}{dt} = \\frac{F_{thrust,x}}{m}$$\n",
    "\n",
    "1. As a rocket accelerates in space, from rest, it first speeds up and its momentum increases. However, as its mass decreases, eventually the rocket's momentum begins to decrease. For what value of $m$ is the rocket's momentum a maximum? Use reasonable values for initial mass, fuel burn rate, and exhaust velocity and cite your source for these values.\n",
    "2. To illustrate the use of a multistage rocket consider the following: (a) A certain rocket carries 60% of its initial mass as fuel (That is, the mass of its fuel is $0.6m_0$. What is the rocket's final speed, if accelerating from rest in space and if it burns all of its fuel in a single stage? Now, suppose it burns the fuel in two stages. First it burns 30% of its fuel ($0.3m_0$. Then it jettisons the first-stage fuel tank, which has a mass $0.1m_0$, and then burns the remaining $0.3m_0$. Find the final speed in this case, assuming the same exhaust velocity and fuel burn rate. Use reasonable values for initial mass, fuel burn rate, and exhaust velocity and cite your source for these values."
   ]
  },
  {
   "cell_type": "markdown",
   "metadata": {},
   "source": [
    "## Option 7 -- Relativistic Motion\n",
    "\n",
    "The ODE\n",
    "\n",
    "$$\\frac{d v_x}{dt} = \\frac{F_{net,x}}{m}$$\n",
    "\n",
    "is an approximation that is not correct as speed approaches the speed of light. The correct ODE is\n",
    "\n",
    "$$\\frac{d p_x}{dt} = F_{net,x}$$\n",
    "\n",
    "with $p_x = \\gamma mv_x$ where $\\gamma=\\dfrac{1}{\\sqrt{1-\\frac{v^2}{c^2}}}$. Write a simulation of particle starting from rest with a constant force on the particle. Model both the *classical* case and the *relativistic* case and compare and contrast the results."
   ]
  },
  {
   "cell_type": "code",
   "execution_count": null,
   "metadata": {},
   "outputs": [],
   "source": []
  }
 ],
 "metadata": {
  "kernelspec": {
   "display_name": "Python 3 (ipykernel)",
   "language": "python",
   "name": "python3"
  },
  "language_info": {
   "codemirror_mode": {
    "name": "ipython",
    "version": 3
   },
   "file_extension": ".py",
   "mimetype": "text/x-python",
   "name": "python",
   "nbconvert_exporter": "python",
   "pygments_lexer": "ipython3",
   "version": "3.9.7"
  }
 },
 "nbformat": 4,
 "nbformat_minor": 4
}
